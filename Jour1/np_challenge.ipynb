{
 "cells": [
  {
   "cell_type": "code",
   "execution_count": 1,
   "metadata": {},
   "outputs": [],
   "source": [
    "import numpy as np"
   ]
  },
  {
   "cell_type": "code",
   "execution_count": 2,
   "metadata": {},
   "outputs": [
    {
     "name": "stdout",
     "output_type": "stream",
     "text": [
      "[[0. 0. 0. 0.]\n",
      " [0. 0. 0. 0.]\n",
      " [0. 0. 0. 0.]]\n"
     ]
    }
   ],
   "source": [
    "# a ) Create an array of zeroes with size (3, 4)\n",
    "a = np.zeros((3,4))\n",
    "print(a)"
   ]
  },
  {
   "cell_type": "code",
   "execution_count": 3,
   "metadata": {},
   "outputs": [
    {
     "name": "stdout",
     "output_type": "stream",
     "text": [
      "[[0. 0. 0.]\n",
      " [0. 0. 0.]\n",
      " [0. 0. 0.]\n",
      " [0. 0. 0.]]\n",
      "[[1. 1. 1.]\n",
      " [2. 2. 2.]\n",
      " [3. 3. 3.]\n",
      " [4. 4. 4.]]\n",
      "[[1. 2. 3. 4.]\n",
      " [1. 2. 3. 4.]\n",
      " [1. 2. 3. 4.]]\n"
     ]
    }
   ],
   "source": [
    "# b) Add 1 to elements in the first column, 2 to the second column, 3 to the third column and 4 to the fourth column\n",
    "a = np.zeros((3,4))\n",
    "b=a.T\n",
    "print(b)\n",
    "for i in range(4):\n",
    "    b[i,:]=b[i,:]+np.full((3,),i+1)\n",
    "print(b)\n",
    "a=b.T\n",
    "print(a)"
   ]
  },
  {
   "cell_type": "code",
   "execution_count": 4,
   "metadata": {},
   "outputs": [
    {
     "name": "stdout",
     "output_type": "stream",
     "text": [
      "[[0.5 0.5 0.5]\n",
      " [1.  1.  1. ]\n",
      " [1.5 1.5 1.5]\n",
      " [2.  2.  2. ]]\n",
      "[[0.5 1.  1.5 2. ]\n",
      " [0.5 1.  1.5 2. ]\n",
      " [0.5 1.  1.5 2. ]]\n"
     ]
    }
   ],
   "source": [
    "# c) Divide each column by the second column (second column should then be composed of ones)\n",
    "c=b[1,:]\n",
    "d=b/c\n",
    "print(d)\n",
    "print(d.T)"
   ]
  },
  {
   "cell_type": "code",
   "execution_count": 9,
   "metadata": {},
   "outputs": [
    {
     "name": "stdout",
     "output_type": "stream",
     "text": [
      "[[0.  0.  0.  0.  0.  0. ]\n",
      " [0.  0.5 1.  1.5 2.  0. ]\n",
      " [0.  0.5 1.  1.5 2.  0. ]\n",
      " [0.  0.5 1.  1.5 2.  0. ]\n",
      " [0.  0.  0.  0.  0.  0. ]]\n"
     ]
    }
   ],
   "source": [
    "# d) 0-Pad the matrix (size 1)\n",
    "e=np.pad(d.T,((1,1),(1,1)), 'constant', constant_values=(0))\n",
    "print(e)"
   ]
  },
  {
   "cell_type": "code",
   "execution_count": null,
   "metadata": {},
   "outputs": [],
   "source": [
    "# e) Set to 0 all the non-diagonal values\n",
    "for i in range (5):\n",
    "    if e[]"
   ]
  },
  {
   "cell_type": "code",
   "execution_count": null,
   "metadata": {},
   "outputs": [],
   "source": []
  }
 ],
 "metadata": {
  "kernelspec": {
   "display_name": "Python 3",
   "language": "python",
   "name": "python3"
  },
  "language_info": {
   "codemirror_mode": {
    "name": "ipython",
    "version": 3
   },
   "file_extension": ".py",
   "mimetype": "text/x-python",
   "name": "python",
   "nbconvert_exporter": "python",
   "pygments_lexer": "ipython3",
   "version": "3.7.3"
  }
 },
 "nbformat": 4,
 "nbformat_minor": 2
}
